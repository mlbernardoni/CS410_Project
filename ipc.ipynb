{
 "cells": [
  {
   "cell_type": "code",
   "execution_count": 1,
   "metadata": {},
   "outputs": [
    {
     "name": "stdout",
     "output_type": "stream",
     "text": [
      "1a\n"
     ]
    },
    {
     "data": {
      "text/plain": [
       "0"
      ]
     },
     "execution_count": 1,
     "metadata": {},
     "output_type": "execute_result"
    }
   ],
   "source": [
    "import os\n",
    "import win32pipe\n",
    "import win32file\n",
    "\n",
    "\n",
    "\n",
    "print(\"1a\")\n",
    "pipe = win32pipe.CreateNamedPipe(r'\\\\.\\pipe\\pipecpp', \n",
    "                                 win32pipe.PIPE_ACCESS_DUPLEX, \n",
    "                                 win32pipe.PIPE_TYPE_MESSAGE | \n",
    "                                 win32pipe.PIPE_READMODE_MESSAGE | \n",
    "                                 win32pipe.PIPE_WAIT, \n",
    "                                 1, \n",
    "                                 65536, 65536, 0, None)\n",
    "win32pipe.ConnectNamedPipe(pipe, None)\n",
    "\n"
   ]
  },
  {
   "cell_type": "code",
   "execution_count": 5,
   "metadata": {},
   "outputs": [
    {
     "data": {
      "text/plain": [
       "(0, 11)"
      ]
     },
     "execution_count": 5,
     "metadata": {},
     "output_type": "execute_result"
    }
   ],
   "source": [
    "win32file.WriteFile(pipe, b\"hello world\")\n"
   ]
  },
  {
   "cell_type": "code",
   "execution_count": 3,
   "metadata": {},
   "outputs": [],
   "source": [
    "pipe2 = win32file.CreateFile(r'\\\\.\\pipe\\pipepy',\n",
    "                              win32file.GENERIC_READ , \n",
    "                              0, None, win32file.OPEN_EXISTING, win32file.FILE_ATTRIBUTE_NORMAL, None)\n",
    "\n",
    "#res = win32pipe.SetNamedPipeHandleState(pipe2, win32pipe.PIPE_READMODE_MESSAGE, None, None)\n",
    "\n",
    "    \n"
   ]
  },
  {
   "cell_type": "code",
   "execution_count": 6,
   "metadata": {},
   "outputs": [
    {
     "name": "stdout",
     "output_type": "stream",
     "text": [
      "b'oy\\x00\\x0b'\n"
     ]
    }
   ],
   "source": [
    "rc, resp = win32file.ReadFile(pipe2, 65536)\n",
    "print(resp) #it has an end of line char at the end \\x0b\n"
   ]
  },
  {
   "cell_type": "code",
   "execution_count": 7,
   "metadata": {},
   "outputs": [],
   "source": [
    "win32file.FlushFileBuffers(pipe)\n",
    "win32file.CloseHandle(pipe)\n",
    "win32file.CloseHandle(pipe2)"
   ]
  },
  {
   "cell_type": "code",
   "execution_count": null,
   "metadata": {},
   "outputs": [],
   "source": []
  }
 ],
 "metadata": {
  "kernelspec": {
   "display_name": "Python 3",
   "language": "python",
   "name": "python3"
  },
  "language_info": {
   "codemirror_mode": {
    "name": "ipython",
    "version": 3
   },
   "file_extension": ".py",
   "mimetype": "text/x-python",
   "name": "python",
   "nbconvert_exporter": "python",
   "pygments_lexer": "ipython3",
   "version": "3.8.3"
  }
 },
 "nbformat": 4,
 "nbformat_minor": 4
}

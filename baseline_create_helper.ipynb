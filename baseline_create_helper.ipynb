{
 "cells": [
  {
   "cell_type": "code",
   "execution_count": 1,
   "metadata": {},
   "outputs": [
    {
     "name": "stdout",
     "output_type": "stream",
     "text": [
      "Number of time slices with docs: 123\n",
      "Number of time slices: 123\n",
      "Number of time vocab: 12517\n",
      "Number of documents: 2673\n",
      "Number of unique tokens: 12517\n",
      "Current Time = 16:18:07\n",
      "Model Finished\n",
      "Current Time = 16:25:46\n",
      ".\\LDA_data\\20baselinesav\n"
     ]
    }
   ],
   "source": [
    "%run load_helper.ipynb\n",
    "\n",
    "baselinename = \"20baseline\"\n",
    "\n",
    "lda_decay = .5    \n",
    "\n",
    "# number of topics to start with, per the article, 30 is a good start\n",
    "num_topics = 20\n",
    "num_buffers = 5   # how many buffers to add each iteration\n",
    "\n",
    "\n",
    "# ##################################################\n",
    "#             Runs a baseline\n",
    "# ##################################################\n",
    "\n",
    "# Make a index to word dictionary.\n",
    "now = datetime.now()\n",
    "current_time = now.strftime(\"%H:%M:%S\")\n",
    "print(\"Current Time =\", current_time)\n",
    "\n",
    "model = LdaModel(\n",
    "    corpus=corpus,\n",
    "    id2word=tokentoword,\n",
    "    chunksize=chunksize,\n",
    "    alpha='auto',\n",
    "    eta='auto',\n",
    "    iterations=iterations,\n",
    "    num_topics=num_topics,\n",
    "    passes=passes,\n",
    "    eval_every=eval_every\n",
    ")\n",
    "\n",
    "print('Model Finished')\n",
    "now = datetime.now()\n",
    "current_time = now.strftime(\"%H:%M:%S\")\n",
    "print(\"Current Time =\", current_time)\n",
    "\n",
    "# ##################################################\n",
    "#             Saves the baseline\n",
    "# ##################################################\n",
    "\n",
    "file_name = save_path + baselinename + \"sav\"\n",
    "print (file_name)\n",
    "model.save(file_name )\n",
    "\n"
   ]
  }
 ],
 "metadata": {
  "kernelspec": {
   "display_name": "Gensim",
   "language": "python",
   "name": "myenv"
  },
  "language_info": {
   "codemirror_mode": {
    "name": "ipython",
    "version": 3
   },
   "file_extension": ".py",
   "mimetype": "text/x-python",
   "name": "python",
   "nbconvert_exporter": "python",
   "pygments_lexer": "ipython3",
   "version": "3.8.5"
  }
 },
 "nbformat": 4,
 "nbformat_minor": 4
}

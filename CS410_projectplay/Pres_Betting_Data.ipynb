{
 "cells": [
  {
   "cell_type": "code",
   "execution_count": 4,
   "metadata": {
    "executionInfo": {
     "elapsed": 1093,
     "status": "ok",
     "timestamp": 1606219890745,
     "user": {
      "displayName": "Yash Sukhwani",
      "photoUrl": "",
      "userId": "05249172031798450326"
     },
     "user_tz": -330
    },
    "id": "rr7I_IawHflf"
   },
   "outputs": [
    {
     "ename": "ModuleNotFoundError",
     "evalue": "No module named 'gspread'",
     "output_type": "error",
     "traceback": [
      "\u001b[1;31m---------------------------------------------------------------------------\u001b[0m",
      "\u001b[1;31mModuleNotFoundError\u001b[0m                       Traceback (most recent call last)",
      "\u001b[1;32m<ipython-input-4-6593947cf7d6>\u001b[0m in \u001b[0;36m<module>\u001b[1;34m\u001b[0m\n\u001b[0;32m      3\u001b[0m \u001b[1;32mimport\u001b[0m \u001b[0mnumpy\u001b[0m \u001b[1;32mas\u001b[0m \u001b[0mnp\u001b[0m\u001b[1;33m\u001b[0m\u001b[1;33m\u001b[0m\u001b[0m\n\u001b[0;32m      4\u001b[0m \u001b[1;33m\u001b[0m\u001b[0m\n\u001b[1;32m----> 5\u001b[1;33m \u001b[1;32mimport\u001b[0m \u001b[0mgspread\u001b[0m\u001b[1;33m\u001b[0m\u001b[1;33m\u001b[0m\u001b[0m\n\u001b[0m\u001b[0;32m      6\u001b[0m \u001b[1;32mfrom\u001b[0m \u001b[0moauth2client\u001b[0m\u001b[1;33m.\u001b[0m\u001b[0mclient\u001b[0m \u001b[1;32mimport\u001b[0m \u001b[0mGoogleCredentials\u001b[0m\u001b[1;33m\u001b[0m\u001b[1;33m\u001b[0m\u001b[0m\n\u001b[0;32m      7\u001b[0m \u001b[1;33m\u001b[0m\u001b[0m\n",
      "\u001b[1;31mModuleNotFoundError\u001b[0m: No module named 'gspread'"
     ]
    }
   ],
   "source": [
    "import pandas as pd\n",
    "from matplotlib import pyplot as plt\n",
    "import numpy as np\n",
    "\n",
    "from google.colab import auth\n",
    "auth.authenticate_user()\n",
    "\n",
    "import gspread\n",
    "from oauth2client.client import GoogleCredentials\n",
    "\n",
    "gc = gspread.authorize(GoogleCredentials.get_application_default())"
   ]
  },
  {
   "cell_type": "code",
   "execution_count": 1,
   "metadata": {
    "executionInfo": {
     "elapsed": 45486,
     "status": "ok",
     "timestamp": 1606218094674,
     "user": {
      "displayName": "Yash Sukhwani",
      "photoUrl": "",
      "userId": "05249172031798450326"
     },
     "user_tz": -330
    },
    "id": "U3kFXMfFHgY0"
   },
   "outputs": [
    {
     "ename": "NameError",
     "evalue": "name 'gc' is not defined",
     "output_type": "error",
     "traceback": [
      "\u001b[1;31m---------------------------------------------------------------------------\u001b[0m",
      "\u001b[1;31mNameError\u001b[0m                                 Traceback (most recent call last)",
      "\u001b[1;32m<ipython-input-1-3b72b0db4f5c>\u001b[0m in \u001b[0;36m<module>\u001b[1;34m\u001b[0m\n\u001b[0;32m      2\u001b[0m \u001b[0mdata\u001b[0m \u001b[1;33m=\u001b[0m \u001b[1;33m{\u001b[0m\u001b[1;33m}\u001b[0m\u001b[1;33m\u001b[0m\u001b[1;33m\u001b[0m\u001b[0m\n\u001b[0;32m      3\u001b[0m \u001b[1;32mfor\u001b[0m \u001b[0mmonth\u001b[0m \u001b[1;32min\u001b[0m \u001b[0mmonths\u001b[0m\u001b[1;33m:\u001b[0m\u001b[1;33m\u001b[0m\u001b[1;33m\u001b[0m\u001b[0m\n\u001b[1;32m----> 4\u001b[1;33m   \u001b[0mworksheet\u001b[0m \u001b[1;33m=\u001b[0m \u001b[0mgc\u001b[0m\u001b[1;33m.\u001b[0m\u001b[0mopen\u001b[0m\u001b[1;33m(\u001b[0m\u001b[0mmonth\u001b[0m\u001b[1;33m)\u001b[0m\u001b[1;33m.\u001b[0m\u001b[0msheet1\u001b[0m\u001b[1;33m\u001b[0m\u001b[1;33m\u001b[0m\u001b[0m\n\u001b[0m\u001b[0;32m      5\u001b[0m   \u001b[0mrows\u001b[0m \u001b[1;33m=\u001b[0m \u001b[0mworksheet\u001b[0m\u001b[1;33m.\u001b[0m\u001b[0mget_all_values\u001b[0m\u001b[1;33m(\u001b[0m\u001b[1;33m)\u001b[0m\u001b[1;33m\u001b[0m\u001b[1;33m\u001b[0m\u001b[0m\n\u001b[0;32m      6\u001b[0m   \u001b[0mdata\u001b[0m\u001b[1;33m[\u001b[0m\u001b[0mmonth\u001b[0m\u001b[1;33m]\u001b[0m \u001b[1;33m=\u001b[0m \u001b[0mpd\u001b[0m\u001b[1;33m.\u001b[0m\u001b[0mDataFrame\u001b[0m\u001b[1;33m.\u001b[0m\u001b[0mfrom_records\u001b[0m\u001b[1;33m(\u001b[0m\u001b[0mrows\u001b[0m\u001b[1;33m[\u001b[0m\u001b[1;36m1\u001b[0m\u001b[1;33m:\u001b[0m\u001b[1;33m]\u001b[0m\u001b[1;33m)\u001b[0m\u001b[1;33m\u001b[0m\u001b[1;33m\u001b[0m\u001b[0m\n",
      "\u001b[1;31mNameError\u001b[0m: name 'gc' is not defined"
     ]
    }
   ],
   "source": [
    "months = ['July', 'August', 'September', 'October']\n",
    "data = {}\n",
    "for month in months:\n",
    "  worksheet = gc.open(month).sheet1\n",
    "  rows = worksheet.get_all_values()\n",
    "  data[month] = pd.DataFrame.from_records(rows[1:])\n",
    "  data[month].columns = rows[0]"
   ]
  },
  {
   "cell_type": "code",
   "execution_count": 16,
   "metadata": {
    "executionInfo": {
     "elapsed": 3618,
     "status": "ok",
     "timestamp": 1606218217419,
     "user": {
      "displayName": "Yash Sukhwani",
      "photoUrl": "",
      "userId": "05249172031798450326"
     },
     "user_tz": -330
    },
    "id": "ffIlftYVHgwO"
   },
   "outputs": [],
   "source": [
    "worksheet = gc.open('All Months').sheet1\n",
    "rows = worksheet.get_all_values()\n",
    "allMonths = pd.DataFrame.from_records(rows[1:])\n",
    "allMonths.columns = rows[0]"
   ]
  },
  {
   "cell_type": "code",
   "execution_count": 17,
   "metadata": {
    "colab": {
     "base_uri": "https://localhost:8080/",
     "height": 419
    },
    "executionInfo": {
     "elapsed": 3101,
     "status": "ok",
     "timestamp": 1606218217425,
     "user": {
      "displayName": "Yash Sukhwani",
      "photoUrl": "",
      "userId": "05249172031798450326"
     },
     "user_tz": -330
    },
    "id": "3q8DV8RdFx_s",
    "outputId": "d509a5f4-4bea-44f1-8314-1f04aa1906ac"
   },
   "outputs": [
    {
     "data": {
      "text/html": [
       "<div>\n",
       "<style scoped>\n",
       "    .dataframe tbody tr th:only-of-type {\n",
       "        vertical-align: middle;\n",
       "    }\n",
       "\n",
       "    .dataframe tbody tr th {\n",
       "        vertical-align: top;\n",
       "    }\n",
       "\n",
       "    .dataframe thead th {\n",
       "        text-align: right;\n",
       "    }\n",
       "</style>\n",
       "<table border=\"1\" class=\"dataframe\">\n",
       "  <thead>\n",
       "    <tr style=\"text-align: right;\">\n",
       "      <th></th>\n",
       "      <th>Date</th>\n",
       "      <th>Contract</th>\n",
       "      <th>Units</th>\n",
       "      <th>$Volume</th>\n",
       "      <th>LowPrice</th>\n",
       "      <th>HighPrice</th>\n",
       "      <th>AvgPrice</th>\n",
       "      <th>LastPrice</th>\n",
       "    </tr>\n",
       "  </thead>\n",
       "  <tbody>\n",
       "    <tr>\n",
       "      <th>0</th>\n",
       "      <td>05/01/00</td>\n",
       "      <td>Dem</td>\n",
       "      <td>224</td>\n",
       "      <td>112.043</td>\n",
       "      <td>0.49</td>\n",
       "      <td>0.55</td>\n",
       "      <td>0.5</td>\n",
       "      <td>0.55</td>\n",
       "    </tr>\n",
       "    <tr>\n",
       "      <th>1</th>\n",
       "      <td>05/01/00</td>\n",
       "      <td>Reform</td>\n",
       "      <td>2</td>\n",
       "      <td>0.067</td>\n",
       "      <td>0.019</td>\n",
       "      <td>0.048</td>\n",
       "      <td>0.034</td>\n",
       "      <td>0.019</td>\n",
       "    </tr>\n",
       "    <tr>\n",
       "      <th>2</th>\n",
       "      <td>05/01/00</td>\n",
       "      <td>Rep</td>\n",
       "      <td>116</td>\n",
       "      <td>57.95</td>\n",
       "      <td>0.488</td>\n",
       "      <td>0.501</td>\n",
       "      <td>0.5</td>\n",
       "      <td>0.5</td>\n",
       "    </tr>\n",
       "    <tr>\n",
       "      <th>3</th>\n",
       "      <td>05/02/00</td>\n",
       "      <td>Dem</td>\n",
       "      <td>87</td>\n",
       "      <td>44.369</td>\n",
       "      <td>0.501</td>\n",
       "      <td>0.522</td>\n",
       "      <td>0.51</td>\n",
       "      <td>0.508</td>\n",
       "    </tr>\n",
       "    <tr>\n",
       "      <th>4</th>\n",
       "      <td>05/02/00</td>\n",
       "      <td>Reform</td>\n",
       "      <td>50</td>\n",
       "      <td>0.196</td>\n",
       "      <td>0.003</td>\n",
       "      <td>0.005</td>\n",
       "      <td>0.004</td>\n",
       "      <td>0.003</td>\n",
       "    </tr>\n",
       "    <tr>\n",
       "      <th>...</th>\n",
       "      <td>...</td>\n",
       "      <td>...</td>\n",
       "      <td>...</td>\n",
       "      <td>...</td>\n",
       "      <td>...</td>\n",
       "      <td>...</td>\n",
       "      <td>...</td>\n",
       "      <td>...</td>\n",
       "    </tr>\n",
       "    <tr>\n",
       "      <th>541</th>\n",
       "      <td>10/30/00</td>\n",
       "      <td>Reform</td>\n",
       "      <td>80</td>\n",
       "      <td>0.006</td>\n",
       "      <td>0</td>\n",
       "      <td>0.001</td>\n",
       "      <td>0</td>\n",
       "      <td>0</td>\n",
       "    </tr>\n",
       "    <tr>\n",
       "      <th>542</th>\n",
       "      <td>10/30/00</td>\n",
       "      <td>Rep</td>\n",
       "      <td>1,083</td>\n",
       "      <td>707.91</td>\n",
       "      <td>0.61</td>\n",
       "      <td>0.686</td>\n",
       "      <td>0.654</td>\n",
       "      <td>0.61</td>\n",
       "    </tr>\n",
       "    <tr>\n",
       "      <th>543</th>\n",
       "      <td>10/31/00</td>\n",
       "      <td>Dem</td>\n",
       "      <td>1,246</td>\n",
       "      <td>474.869</td>\n",
       "      <td>0.36</td>\n",
       "      <td>0.399</td>\n",
       "      <td>0.381</td>\n",
       "      <td>0.377</td>\n",
       "    </tr>\n",
       "    <tr>\n",
       "      <th>544</th>\n",
       "      <td>10/31/00</td>\n",
       "      <td>Reform</td>\n",
       "      <td>1</td>\n",
       "      <td>0</td>\n",
       "      <td>0</td>\n",
       "      <td>0.001</td>\n",
       "      <td>0</td>\n",
       "      <td>0</td>\n",
       "    </tr>\n",
       "    <tr>\n",
       "      <th>545</th>\n",
       "      <td>10/31/00</td>\n",
       "      <td>Rep</td>\n",
       "      <td>1,772</td>\n",
       "      <td>1,089.26</td>\n",
       "      <td>0.59</td>\n",
       "      <td>0.635</td>\n",
       "      <td>0.615</td>\n",
       "      <td>0.61</td>\n",
       "    </tr>\n",
       "  </tbody>\n",
       "</table>\n",
       "<p>546 rows × 8 columns</p>\n",
       "</div>"
      ],
      "text/plain": [
       "         Date Contract  Units   $Volume LowPrice HighPrice AvgPrice LastPrice\n",
       "0    05/01/00      Dem    224   112.043     0.49      0.55      0.5      0.55\n",
       "1    05/01/00   Reform      2     0.067    0.019     0.048    0.034     0.019\n",
       "2    05/01/00      Rep    116     57.95    0.488     0.501      0.5       0.5\n",
       "3    05/02/00      Dem     87    44.369    0.501     0.522     0.51     0.508\n",
       "4    05/02/00   Reform     50     0.196    0.003     0.005    0.004     0.003\n",
       "..        ...      ...    ...       ...      ...       ...      ...       ...\n",
       "541  10/30/00   Reform     80     0.006        0     0.001        0         0\n",
       "542  10/30/00      Rep  1,083    707.91     0.61     0.686    0.654      0.61\n",
       "543  10/31/00      Dem  1,246   474.869     0.36     0.399    0.381     0.377\n",
       "544  10/31/00   Reform      1         0        0     0.001        0         0\n",
       "545  10/31/00      Rep  1,772  1,089.26     0.59     0.635    0.615      0.61\n",
       "\n",
       "[546 rows x 8 columns]"
      ]
     },
     "execution_count": 17,
     "metadata": {
      "tags": []
     },
     "output_type": "execute_result"
    }
   ],
   "source": [
    "allMonths[:]"
   ]
  },
  {
   "cell_type": "code",
   "execution_count": 64,
   "metadata": {
    "colab": {
     "base_uri": "https://localhost:8080/"
    },
    "executionInfo": {
     "elapsed": 1050,
     "status": "ok",
     "timestamp": 1606222034320,
     "user": {
      "displayName": "Yash Sukhwani",
      "photoUrl": "",
      "userId": "05249172031798450326"
     },
     "user_tz": -330
    },
    "id": "wvVQFpTUPxbO",
    "outputId": "8ac19788-0dd9-4dc1-c21e-71a3615eb46b"
   },
   "outputs": [
    {
     "name": "stdout",
     "output_type": "stream",
     "text": [
      "Index(['Date', 'Contract', 'Units', '$Volume', 'LowPrice', 'HighPrice',\n",
      "       'AvgPrice', 'LastPrice', '5MA', '3MA'],\n",
      "      dtype='object')\n"
     ]
    }
   ],
   "source": [
    "cols = allMonths.columns"
   ]
  },
  {
   "cell_type": "code",
   "execution_count": 19,
   "metadata": {
    "executionInfo": {
     "elapsed": 3299,
     "status": "ok",
     "timestamp": 1606218218111,
     "user": {
      "displayName": "Yash Sukhwani",
      "photoUrl": "",
      "userId": "05249172031798450326"
     },
     "user_tz": -330
    },
    "id": "xXu2DNuMQNEe"
   },
   "outputs": [],
   "source": [
    "for col in cols[2:]:\n",
    "  for i in range(len(allMonths[col])):\n",
    "    if allMonths[col][i] != \"\":\n",
    "      allMonths[col][i] = str(allMonths[col][i])\n",
    "      allMonths[col][i] = (allMonths[col][i]).replace(',','')\n",
    "      allMonths[col][i] = float(allMonths[col][i])\n",
    "    else:\n",
    "      allMonths[col][i] = 0 \n",
    "      # this does not affect our calculated values because there are no missing values in the LastPrice column "
   ]
  },
  {
   "cell_type": "code",
   "execution_count": 20,
   "metadata": {
    "executionInfo": {
     "elapsed": 3129,
     "status": "ok",
     "timestamp": 1606218218112,
     "user": {
      "displayName": "Yash Sukhwani",
      "photoUrl": "",
      "userId": "05249172031798450326"
     },
     "user_tz": -330
    },
    "id": "jirBwmOUzFOX"
   },
   "outputs": [],
   "source": [
    "normPrices = []\n",
    "dates = []"
   ]
  },
  {
   "cell_type": "code",
   "execution_count": 21,
   "metadata": {
    "executionInfo": {
     "elapsed": 2908,
     "status": "ok",
     "timestamp": 1606218218112,
     "user": {
      "displayName": "Yash Sukhwani",
      "photoUrl": "",
      "userId": "05249172031798450326"
     },
     "user_tz": -330
    },
    "id": "PbcbuejP0UkZ"
   },
   "outputs": [],
   "source": [
    "i = 1\n",
    "while i < len(allMonths):\n",
    "  dates.append(allMonths['Date'][i])\n",
    "  bush = allMonths['LastPrice'][i+1] # Bush ~ Rep\n",
    "  gore = allMonths['LastPrice'][i-1] # Gore ~ Dem\n",
    "  \n",
    "  # normalization formula from paper\n",
    "  normPrice = gore / (bush + gore)\n",
    "  normPrices.append(normPrice)\n",
    "  i = i + 3"
   ]
  },
  {
   "cell_type": "code",
   "execution_count": 22,
   "metadata": {
    "colab": {
     "base_uri": "https://localhost:8080/"
    },
    "executionInfo": {
     "elapsed": 2681,
     "status": "ok",
     "timestamp": 1606218218113,
     "user": {
      "displayName": "Yash Sukhwani",
      "photoUrl": "",
      "userId": "05249172031798450326"
     },
     "user_tz": -330
    },
    "id": "2p95KsIOzFaI",
    "outputId": "1bca790d-0021-4fcf-ecb9-f2e641f361c8"
   },
   "outputs": [
    {
     "name": "stdout",
     "output_type": "stream",
     "text": [
      "[0.5238095238095238, 0.5049701789264414, 0.5094905094905096, 0.5114656031904287, 0.5208747514910537, 0.5150602409638554, 0.5150602409638554, 0.5115346038114343, 0.51, 0.5, 0.4955401387512389, 0.49648946840521563, 0.49748743718592964, 0.4994994994994995, 0.4964824120603015, 0.48484848484848486, 0.49504950495049505, 0.46896551724137925, 0.4460093896713615, 0.48821218074656186, 0.48, 0.4833836858006042, 0.4779116465863454, 0.4679802955665024, 0.4773869346733668, 0.5024630541871921, 0.502415458937198, 0.5201177625122669, 0.5153617443012884, 0.49253731343283585, 0.4974721941354904, 0.49899799599198397, 0.5015045135406219, 0.49603174603174605, 0.5009842519685039, 0.4985044865403788, 0.5025125628140703, 0.54, 0.5150631681243927, 0.519730510105871, 0.511, 0.511, 0.5252725470763132, 0.5294117647058825, 0.5229540918163673, 0.5297029702970297, 0.5252225519287833, 0.5134061569016881, 0.5237623762376238, 0.5151515151515151, 0.5024630541871921, 0.504950495049505, 0.504950495049505, 0.5110220440881763, 0.508390918065153, 0.49504950495049505, 0.46611909650924027, 0.4820717131474103, 0.4824120603015075, 0.47058823529411764, 0.4667328699106255, 0.4673366834170854, 0.4731610337972167, 0.4712301587301587, 0.4711729622266401, 0.473420260782347, 0.47283702213279677, 0.4738955823293172, 0.47064676616915424, 0.47394789579158314, 0.4773869346733668, 0.5268292682926831, 0.48484848484848486, 0.499001996007984, 0.503968253968254, 0.501002004008016, 0.4995004995004996, 0.5, 0.4797979797979798, 0.4825918762088975, 0.4945490584737364, 0.4975074775672981, 0.4789579158316633, 0.4834503510531595, 0.4759519038076152, 0.49797160243407707, 0.4841997961264016, 0.46231155778894467, 0.46700507614213194, 0.46346346346346345, 0.4738955823293172, 0.4773869346733668, 0.4780876494023904, 0.4838056680161943, 0.475, 0.47768762677484783, 0.4653465346534653, 0.4779116465863454, 0.48059701492537316, 0.4889112903225806, 0.4673366834170854, 0.48, 0.48364717542120916, 0.4835164835164836, 0.45544554455445546, 0.44366899302093715, 0.43713163064833005, 0.43718592964824116, 0.4378109452736319, 0.4435564435564435, 0.46620278330019876, 0.4773869346733668, 0.473420260782347, 0.473420260782347, 0.47331319234642494, 0.4845771144278607, 0.4758551307847082, 0.4843592330978809, 0.48993963782696176, 0.4894472361809045, 0.5, 0.4980582524271845, 0.5004995004995005, 0.5025125628140703, 0.5090180360721442, 0.5166835187057635, 0.531936127744511, 0.561122244488978, 0.5714285714285714, 0.5614385614385614, 0.551, 0.5786350148367952, 0.5780463242698892, 0.5973895582329317, 0.6187624750499002, 0.6372549019607843, 0.6411483253588518, 0.657314629258517, 0.695736434108527, 0.6832844574780059, 0.6080402010050251, 0.6184857423795478, 0.6078234704112336, 0.6149193548387096, 0.5864509605662286, 0.5850746268656717, 0.5894105894105894, 0.5741482965931863, 0.5753968253968254, 0.5728643216080402, 0.5648702594810379, 0.5934291581108829, 0.6067527308838132, 0.6122448979591837, 0.6697154471544716, 0.686868686868687, 0.6663376110562684, 0.6206206206206206, 0.5906432748538012, 0.5686274509803921, 0.5858987090367428, 0.5514485514485514, 0.5404595404595405, 0.5371485943775101, 0.5228628230616302, 0.5113974231912786, 0.47363184079601994, 0.5180722891566265, 0.5148514851485149, 0.4775672981056829, 0.435, 0.39100684261974583, 0.3640824337585868, 0.393909626719057, 0.45177664974619286, 0.427299703264095, 0.418, 0.38430983118172785, 0.2964876033057851, 0.345703125, 0.3807106598984772, 0.3819655521783181]\n"
     ]
    }
   ],
   "source": [
    "print(normPrices)"
   ]
  },
  {
   "cell_type": "code",
   "execution_count": 25,
   "metadata": {
    "executionInfo": {
     "elapsed": 1036,
     "status": "ok",
     "timestamp": 1606218887415,
     "user": {
      "displayName": "Yash Sukhwani",
      "photoUrl": "",
      "userId": "05249172031798450326"
     },
     "user_tz": -330
    },
    "id": "LzA2zvq3-ytR"
   },
   "outputs": [],
   "source": [
    "data = pd.DataFrame(columns=['Date', 'Norm Price'])"
   ]
  },
  {
   "cell_type": "code",
   "execution_count": 27,
   "metadata": {
    "executionInfo": {
     "elapsed": 2006,
     "status": "ok",
     "timestamp": 1606218936961,
     "user": {
      "displayName": "Yash Sukhwani",
      "photoUrl": "",
      "userId": "05249172031798450326"
     },
     "user_tz": -330
    },
    "id": "-gqs2PY0GyyL"
   },
   "outputs": [],
   "source": [
    "data['Date'] = dates\n",
    "data['Norm Price'] = normPrices"
   ]
  },
  {
   "cell_type": "code",
   "execution_count": 35,
   "metadata": {
    "executionInfo": {
     "elapsed": 1022,
     "status": "ok",
     "timestamp": 1606219157326,
     "user": {
      "displayName": "Yash Sukhwani",
      "photoUrl": "",
      "userId": "05249172031798450326"
     },
     "user_tz": -330
    },
    "id": "jPm671eXHNHC"
   },
   "outputs": [],
   "source": [
    "data['5MA'] = data['Norm Price'].rolling(5).mean()\n",
    "data['3MA'] = data['Norm Price'].rolling(3).mean()\n",
    "data['Diff'] = data['Norm Price'] - data['Norm Price'].shift(1)"
   ]
  },
  {
   "cell_type": "code",
   "execution_count": 36,
   "metadata": {
    "colab": {
     "base_uri": "https://localhost:8080/",
     "height": 419
    },
    "executionInfo": {
     "elapsed": 993,
     "status": "ok",
     "timestamp": 1606219159743,
     "user": {
      "displayName": "Yash Sukhwani",
      "photoUrl": "",
      "userId": "05249172031798450326"
     },
     "user_tz": -330
    },
    "id": "ZYwVF1beG0Wd",
    "outputId": "78b167dc-bea8-43c7-ef97-341621bd508f"
   },
   "outputs": [
    {
     "data": {
      "text/html": [
       "<div>\n",
       "<style scoped>\n",
       "    .dataframe tbody tr th:only-of-type {\n",
       "        vertical-align: middle;\n",
       "    }\n",
       "\n",
       "    .dataframe tbody tr th {\n",
       "        vertical-align: top;\n",
       "    }\n",
       "\n",
       "    .dataframe thead th {\n",
       "        text-align: right;\n",
       "    }\n",
       "</style>\n",
       "<table border=\"1\" class=\"dataframe\">\n",
       "  <thead>\n",
       "    <tr style=\"text-align: right;\">\n",
       "      <th></th>\n",
       "      <th>Date</th>\n",
       "      <th>Norm Price</th>\n",
       "      <th>5MA</th>\n",
       "      <th>3MA</th>\n",
       "      <th>Diff</th>\n",
       "    </tr>\n",
       "  </thead>\n",
       "  <tbody>\n",
       "    <tr>\n",
       "      <th>0</th>\n",
       "      <td>05/01/00</td>\n",
       "      <td>0.523810</td>\n",
       "      <td>NaN</td>\n",
       "      <td>NaN</td>\n",
       "      <td>NaN</td>\n",
       "    </tr>\n",
       "    <tr>\n",
       "      <th>1</th>\n",
       "      <td>05/02/00</td>\n",
       "      <td>0.504970</td>\n",
       "      <td>NaN</td>\n",
       "      <td>NaN</td>\n",
       "      <td>-0.018839</td>\n",
       "    </tr>\n",
       "    <tr>\n",
       "      <th>2</th>\n",
       "      <td>05/03/00</td>\n",
       "      <td>0.509491</td>\n",
       "      <td>NaN</td>\n",
       "      <td>0.512757</td>\n",
       "      <td>0.004520</td>\n",
       "    </tr>\n",
       "    <tr>\n",
       "      <th>3</th>\n",
       "      <td>05/04/00</td>\n",
       "      <td>0.511466</td>\n",
       "      <td>NaN</td>\n",
       "      <td>0.508642</td>\n",
       "      <td>0.001975</td>\n",
       "    </tr>\n",
       "    <tr>\n",
       "      <th>4</th>\n",
       "      <td>05/05/00</td>\n",
       "      <td>0.520875</td>\n",
       "      <td>0.514122</td>\n",
       "      <td>0.513944</td>\n",
       "      <td>0.009409</td>\n",
       "    </tr>\n",
       "    <tr>\n",
       "      <th>...</th>\n",
       "      <td>...</td>\n",
       "      <td>...</td>\n",
       "      <td>...</td>\n",
       "      <td>...</td>\n",
       "      <td>...</td>\n",
       "    </tr>\n",
       "    <tr>\n",
       "      <th>177</th>\n",
       "      <td>10/27/00</td>\n",
       "      <td>0.384310</td>\n",
       "      <td>0.415059</td>\n",
       "      <td>0.409870</td>\n",
       "      <td>-0.033690</td>\n",
       "    </tr>\n",
       "    <tr>\n",
       "      <th>178</th>\n",
       "      <td>10/28/00</td>\n",
       "      <td>0.296488</td>\n",
       "      <td>0.395575</td>\n",
       "      <td>0.366266</td>\n",
       "      <td>-0.087822</td>\n",
       "    </tr>\n",
       "    <tr>\n",
       "      <th>179</th>\n",
       "      <td>10/29/00</td>\n",
       "      <td>0.345703</td>\n",
       "      <td>0.374360</td>\n",
       "      <td>0.342167</td>\n",
       "      <td>0.049216</td>\n",
       "    </tr>\n",
       "    <tr>\n",
       "      <th>180</th>\n",
       "      <td>10/30/00</td>\n",
       "      <td>0.380711</td>\n",
       "      <td>0.365042</td>\n",
       "      <td>0.340967</td>\n",
       "      <td>0.035008</td>\n",
       "    </tr>\n",
       "    <tr>\n",
       "      <th>181</th>\n",
       "      <td>10/31/00</td>\n",
       "      <td>0.381966</td>\n",
       "      <td>0.357835</td>\n",
       "      <td>0.369460</td>\n",
       "      <td>0.001255</td>\n",
       "    </tr>\n",
       "  </tbody>\n",
       "</table>\n",
       "<p>182 rows × 5 columns</p>\n",
       "</div>"
      ],
      "text/plain": [
       "         Date  Norm Price       5MA       3MA      Diff\n",
       "0    05/01/00    0.523810       NaN       NaN       NaN\n",
       "1    05/02/00    0.504970       NaN       NaN -0.018839\n",
       "2    05/03/00    0.509491       NaN  0.512757  0.004520\n",
       "3    05/04/00    0.511466       NaN  0.508642  0.001975\n",
       "4    05/05/00    0.520875  0.514122  0.513944  0.009409\n",
       "..        ...         ...       ...       ...       ...\n",
       "177  10/27/00    0.384310  0.415059  0.409870 -0.033690\n",
       "178  10/28/00    0.296488  0.395575  0.366266 -0.087822\n",
       "179  10/29/00    0.345703  0.374360  0.342167  0.049216\n",
       "180  10/30/00    0.380711  0.365042  0.340967  0.035008\n",
       "181  10/31/00    0.381966  0.357835  0.369460  0.001255\n",
       "\n",
       "[182 rows x 5 columns]"
      ]
     },
     "execution_count": 36,
     "metadata": {
      "tags": []
     },
     "output_type": "execute_result"
    }
   ],
   "source": [
    "data[:]"
   ]
  },
  {
   "cell_type": "code",
   "execution_count": 57,
   "metadata": {
    "colab": {
     "base_uri": "https://localhost:8080/",
     "height": 312
    },
    "executionInfo": {
     "elapsed": 1158,
     "status": "ok",
     "timestamp": 1606220345440,
     "user": {
      "displayName": "Yash Sukhwani",
      "photoUrl": "",
      "userId": "05249172031798450326"
     },
     "user_tz": -330
    },
    "id": "czKe4Wr0HAVd",
    "outputId": "3a322cde-fc1e-473a-e55a-0a827e05b061"
   },
   "outputs": [
    {
     "data": {
      "text/plain": [
       "Text(0, 0.5, 'Normalized Price')"
      ]
     },
     "execution_count": 57,
     "metadata": {
      "tags": []
     },
     "output_type": "execute_result"
    },
    {
     "data": {
      "image/png": "[encoded data removed]",
      "text/plain": [
       "<Figure size 432x288 with 1 Axes>"
      ]
     },
     "metadata": {
      "needs_background": "light",
      "tags": []
     },
     "output_type": "display_data"
    }
   ],
   "source": [
    "data['5MA'].plot(kind=\"line\")\n",
    "ax = data['3MA'].plot(kind=\"line\", title=\"Price Vs Days\")\n",
    "\n",
    "ax.set_xlabel(\"Days Since March 1, 2000\")\n",
    "ax.set_ylabel(\"Normalized Price\")"
   ]
  },
  {
   "cell_type": "code",
   "execution_count": null,
   "metadata": {
    "id": "2Uv1-vAxQHP_"
   },
   "outputs": [],
   "source": []
  }
 ],
 "metadata": {
  "colab": {
   "authorship_tag": "ABX9TyNyGEstmhnq5sZP4JJ2xNPy",
   "collapsed_sections": [],
   "name": "Pres_Betting_Data.ipynb",
   "provenance": [
    {
     "file_id": "1ugH2yVLU3CytVTy2qPNvCMyigv18Edjw",
     "timestamp": 1606217783199
    }
   ]
  },
  "kernelspec": {
   "display_name": "Python 3",
   "language": "python",
   "name": "python3"
  },
  "language_info": {
   "codemirror_mode": {
    "name": "ipython",
    "version": 3
   },
   "file_extension": ".py",
   "mimetype": "text/x-python",
   "name": "python",
   "nbconvert_exporter": "python",
   "pygments_lexer": "ipython3",
   "version": "3.8.3"
  }
 },
 "nbformat": 4,
 "nbformat_minor": 1
}
